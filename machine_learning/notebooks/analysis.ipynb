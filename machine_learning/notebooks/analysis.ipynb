{
 "cells": [
  {
   "cell_type": "markdown",
   "metadata": {},
   "source": [
    "# 🤖 Sistema de Manutenção Preditiva - Hermes Reply Challenge\n",
    "\n",
    "## 📊 Análise de Machine Learning para Monitoramento Industrial\n",
    "\n",
    "**Objetivo:** Classificar o status dos equipamentos industriais baseado em dados de sensores\n",
    "\n",
    "**Algoritmo:** Random Forest Classifier\n",
    "\n",
    "**Dataset:** 600+ registros de sensores IoT\n",
    "\n",
    "---"
   ]
  },
  {
   "cell_type": "markdown",
   "metadata": {},
   "source": [
    "## 1. 📚 Importação das Bibliotecas"
   ]
  },
  {
   "cell_type": "code",
   "execution_count": null,
   "metadata": {},
   "outputs": [],
   "source": [
    "import pandas as pd\n",
    "import numpy as np\n",
    "import matplotlib.pyplot as plt\n",
    "import seaborn as sns\n",
    "from sklearn.model_selection import train_test_split\n",
    "from sklearn.ensemble import RandomForestClassifier\n",
    "from sklearn.preprocessing import StandardScaler, LabelEncoder\n",
    "from sklearn.metrics import classification_report, confusion_matrix, accuracy_score\n",
    "import warnings\n",
    "warnings.filterwarnings('ignore')\n",
    "\n",
    "# Configurações de visualização\n",
    "plt.style.use('seaborn-v0_8')\n",
    "sns.set_palette("husl")\n",
    "plt.rcParams['figure.figsize'] = (12, 8)\n",
    "\n",
    "print("✅ Bibliotecas importadas com sucesso!")"
   ]
  },
  {
   "cell_type": "markdown",
   "metadata": {},
   "source": [
    "## 2. 📊 Carregamento e Exploração dos Dados"
   ]
  },
  {
   "cell_type": "code",
   "execution_count": null,
   "metadata": {},
   "outputs": [],
   "source": [
    "# Carregando os dados\n",
    "df = pd.read_csv('../../data/sensor_data_sample.csv')\n",
    "\n",
    "print(f"📊 Dataset carregado: {len(df)} registros")\n",
    "print(f"📈 Colunas: {list(df.columns)}")\n",
    "print(f"🔍 Shape: {df.shape}")\n",
    "\n",
    "# Primeiras linhas\n",
    "df.head()"
   ]
  },
  {
   "cell_type": "code",
   "execution_count": null,
   "metadata": {},
   "outputs": [],
   "source": [
    "# Informações gerais\n",
    "print("📋 INFORMAÇÕES GERAIS DO DATASET")\n",
    "print("=" * 50)\n",
    "print(f"• Total de registros: {len(df):,}")\n",
    "print(f"• Sensores únicos: {df['sensor_id'].nunique()}")\n",
    "print(f"• Equipamentos únicos: {df['equipment_id'].nunique()}")\n",
    "print(f"• Período: {df['timestamp'].min()} até {df['timestamp'].max()}")\n",
    "\n",
    "# Distribuição dos status\n",
    "print("\n�� DISTRIBUIÇÃO DOS STATUS:")\n",
    "status_counts = df['status'].value_counts()\n",
    "for status, count in status_counts.items():\n",
    "    percentage = (count / len(df)) * 100\n",
    "    print(f"• {status}: {count:,} ({percentage:.1f}%)")"
   ]
  },
  {
   "cell_type": "code",
   "execution_count": null,
   "metadata": {},
   "outputs": [],
   "source": [
    "# Estatísticas descritivas\n",
    "numeric_cols = ['temperature', 'humidity', 'pressure', 'vibration', 'current']\n",
    "print("🌡️ ESTATÍSTICAS DOS SENSORES:")\n",
    "df[numeric_cols].describe().round(2)"
   ]
  },
  {
   "cell_type": "markdown",
   "metadata": {},
   "source": [
    "## 3. 📊 Visualizações Exploratórias"
   ]
  },
  {
   "cell_type": "code",
   "execution_count": null,
   "metadata": {},
   "outputs": [],
   "source": [
    "# Gráfico 1: Distribuição dos Status\n",
    "plt.figure(figsize=(10, 6))\n",
    "status_counts = df['status'].value_counts()\n",
    "colors = ['#2E8B57', '#FFD700', '#DC143C']  # Verde, Amarelo, Vermelho\n",
    "\n",
    "bars = plt.bar(status_counts.index, status_counts.values, color=colors)\n",
    "plt.title('Distribuição dos Status dos Equipamentos\nSistema de Monitoramento Industrial', \n",
    "          fontsize=14, fontweight='bold')\n",
    "plt.xlabel('Status do Equipamento', fontsize=12)\n",
    "plt.ylabel('Número de Registros', fontsize=12)\n",
    "\n",
    "# Adicionando valores nas barras\n",
    "for bar, value in zip(bars, status_counts.values):\n",
    "    plt.text(bar.get_x() + bar.get_width()/2, bar.get_height() + 5, \n",
    "             f'{value}\n({value/len(df)*100:.1f}%)', \n",
    "             ha='center', va='bottom', fontweight='bold')\n",
    "\n",
    "plt.tight_layout()\n",
    "plt.show()\n",
    "\n",
    "print("📊 Análise: Distribuição equilibrada entre os status, ideal para classificação")"
   ]
  },
  {
   "cell_type": "code",
   "execution_count": null,
   "metadata": {},
   "outputs": [],
   "source": [
    "# Gráfico 2: Boxplots dos Sensores por Status\n",
    "fig, axes = plt.subplots(2, 3, figsize=(18, 12))\n",
    "axes = axes.ravel()\n",
    "\n",
    "for i, col in enumerate(numeric_cols):\n",
    "    sns.boxplot(data=df, x='status', y=col, ax=axes[i])\n",
    "    axes[i].set_title(f'Distribuição: {col.title()}', fontweight='bold', fontsize=12)\n",
    "    axes[i].tick_params(axis='x', rotation=45)\n",
    "    \n",
    "    # Estatísticas por status\n",
    "    stats_text = ""\n",
    "    for status in df['status'].unique():\n",
    "        mean_val = df[df['status'] == status][col].mean()\n",
    "        stats_text += f"{status}: {mean_val:.1f}\n"\n",
    "    \n",
    "    axes[i].text(0.02, 0.98, stats_text, transform=axes[i].transAxes, \n",
    "                verticalalignment='top', bbox=dict(boxstyle='round', facecolor='wheat', alpha=0.8))\n",
    "\n",
    "# Removendo subplot extra\n",
    "axes[5].remove()\n",
    "\n",
    "plt.suptitle('Análise de Sensores por Status do Equipamento\nSistema de Monitoramento Industrial', \n",
    "             fontsize=16, fontweight='bold')\n",
    "plt.tight_layout()\n",
    "plt.show()\n",
    "\n",
    "print("📊 Análise: Clara separação entre status - ideal para classificação ML")"
   ]
  },
  {
   "cell_type": "markdown",
   "metadata": {},
   "source": [
    "## 4. 🔧 Pré-processamento dos Dados"
   ]
  },
  {
   "cell_type": "code",
   "execution_count": null,
   "metadata": {},
   "outputs": [],
   "source": [
    "# Preparando features e target\n",
    "feature_names = ['temperature', 'humidity', 'pressure', 'vibration', 'current']\n",
    "X = df[feature_names]\n",
    "y = df['status']\n",
    "\n",
    "# Codificando o target\n",
    "label_encoder = LabelEncoder()\n",
    "y_encoded = label_encoder.fit_transform(y)\n",
    "\n",
    "print("🔧 PRÉ-PROCESSAMENTO:")\n",
    "print(f"• Features selecionadas: {feature_names}")\n",
    "print(f"• Classes target: {list(label_encoder.classes_)}")\n",
    "print(f"• Codificação: {dict(zip(label_encoder.classes_, range(len(label_encoder.classes_))))}")\n",
    "\n",
    "# Dividindo em treino e teste\n",
    "X_train, X_test, y_train, y_test = train_test_split(\n",
    "    X, y_encoded, test_size=0.2, random_state=42, stratify=y_encoded\n",
    ")\n",
    "\n",
    "print(f"\n�� DIVISÃO DOS DADOS:")\n",
    "print(f"• Treino: {len(X_train)} amostras ({len(X_train)/len(X)*100:.1f}%)")\n",
    "print(f"• Teste: {len(X_test)} amostras ({len(X_test)/len(X)*100:.1f}%)")\n",
    "\n",
    "# Normalizando as features\n",
    "scaler = StandardScaler()\n",
    "X_train_scaled = scaler.fit_transform(X_train)\n",
    "X_test_scaled = scaler.transform(X_test)\n",
    "\n",
    "print(f"✅ Dados normalizados com StandardScaler")"
   ]
  },
  {
   "cell_type": "markdown",
   "metadata": {},
   "source": [
    "## 5. 🤖 Treinamento do Modelo"
   ]
  },
  {
   "cell_type": "code",
   "execution_count": null,
   "metadata": {},
   "outputs": [],
   "source": [
    "# Configurando e treinando o modelo Random Forest\n",
    "model = RandomForestClassifier(\n",
    "    n_estimators=100,\n",
    "    max_depth=10,\n",
    "    min_samples_split=5,\n",
    "    min_samples_leaf=2,\n",
    "    random_state=42\n",
    ")\n",
    "\n",
    "print("🤖 TREINANDO MODELO RANDOM FOREST...")\n",
    "print("⏳ Aguarde...")\n",
    "\n",
    "# Treinamento\n",
    "model.fit(X_train_scaled, y_train)\n",
    "\n",
    "# Predições\n",
    "y_pred = model.predict(X_test_scaled)\n",
    "y_pred_proba = model.predict_proba(X_test_scaled)\n",
    "\n",
    "print("✅ Modelo treinado com sucesso!")\n",
    "print(f"🎯 Parâmetros: {model.get_params()}")"
   ]
  },
  {
   "cell_type": "markdown",
   "metadata": {},
   "source": [
    "## 6. 📊 Avaliação do Modelo"
   ]
  },
  {
   "cell_type": "code",
   "execution_count": null,
   "metadata": {},
   "outputs": [],
   "source": [
    "# Calculando métricas\n",
    "accuracy = accuracy_score(y_test, y_pred)\n",
    "\n",
    "print("📊 RESULTADOS DO MODELO")\n",
    "print("=" * 50)\n",
    "print(f"🎯 Acurácia Geral: {accuracy:.3f} ({accuracy*100:.1f}%)")\n",
    "\n",
    "# Relatório detalhado\n",
    "print("\n�� Relatório de Classificação:")\n",
    "target_names = label_encoder.classes_\n",
    "report = classification_report(y_test, y_pred, target_names=target_names, output_dict=True)\n",
    "\n",
    "for class_name in target_names:\n",
    "    metrics = report[class_name]\n",
    "    print(f"\n• {class_name}:")\n",
    "    print(f"  - Precisão: {metrics['precision']:.3f} ({metrics['precision']*100:.1f}%)")\n",
    "    print(f"  - Recall: {metrics['recall']:.3f} ({metrics['recall']*100:.1f}%)")\n",
    "    print(f"  - F1-Score: {metrics['f1-score']:.3f}")\n",
    "    print(f"  - Suporte: {int(metrics['support'])} amostras")\n",
    "\n",
    "print(f"\n🏆 CONCLUSÃO: Modelo com {accuracy*100:.1f}% de acurácia - EXCELENTE para produção!")"
   ]
  },
  {
   "cell_type": "code",
   "execution_count": null,
   "metadata": {},
   "outputs": [],
   "source": [
    "# Matriz de Confusão\n",
    "plt.figure(figsize=(10, 8))\n",
    "\n",
    "cm = confusion_matrix(y_test, y_pred)\n",
    "sns.heatmap(cm, annot=True, fmt='d', cmap='Blues',\n",
    "           xticklabels=target_names,\n",
    "           yticklabels=target_names,\n",
    "           cbar_kws={'label': 'Número de Predições'})\n",
    "\n",
    "plt.title('Matriz de Confusão - Classificação de Status\nSistema de Manutenção Preditiva', \n",
    "          fontsize=14, fontweight='bold')\n",
    "plt.xlabel('Status Predito', fontsize=12)\n",
    "plt.ylabel('Status Real', fontsize=12)\n",
    "\n",
    "# Adicionando estatísticas\n",
    "total_correct = np.trace(cm)\n",
    "total_samples = np.sum(cm)\n",
    "plt.figtext(0.02, 0.02, f'Acurácia: {total_correct}/{total_samples} = {accuracy:.1%}', \n",
    "           fontsize=12, bbox=dict(boxstyle='round', facecolor='lightgreen', alpha=0.8))\n",
    "\n",
    "plt.tight_layout()\n",
    "plt.show()\n",
    "\n",
    "print("💡 Interpretação da Matriz:")\n",
    "print("• Diagonal principal = predições corretas")\n",
    "print("• Valores fora da diagonal = erros de classificação")\n",
    "print(f"• Total de acertos: {total_correct}/{total_samples}")"
   ]
  },
  {
   "cell_type": "markdown",
   "metadata": {},
   "source": [
    "## 7. 🔍 Importância das Features"
   ]
  },
  {
   "cell_type": "code",
   "execution_count": null,
   "metadata": {},
   "outputs": [],
   "source": [
    "# Importância das Features\n",
    "plt.figure(figsize=(12, 6))\n",
    "\n",
    "importances = model.feature_importances_\n",
    "indices = np.argsort(importances)[::-1]\n",
    "\n",
    "# Criando o gráfico\n",
    "bars = plt.bar(range(len(importances)), importances[indices], \n",
    "               color=['#FF6B6B', '#4ECDC4', '#45B7D1', '#96CEB4', '#FFEAA7'])\n",
    "\n",
    "plt.title('Importância das Features\nModelo de Manutenção Preditiva', \n",
    "          fontsize=14, fontweight='bold')\n",
    "plt.xlabel('Features dos Sensores', fontsize=12)\n",
    "plt.ylabel('Importância Relativa', fontsize=12)\n",
    "plt.xticks(range(len(importances)), \n",
    "          [feature_names[i] for i in indices], rotation=45)\n",
    "\n",
    "# Adicionando valores nas barras\n",
    "for i, (bar, importance) in enumerate(zip(bars, importances[indices])):\n",
    "    plt.text(bar.get_x() + bar.get_width()/2, bar.get_height() + 0.005, \n",
    "             f'{importance:.3f}', ha='center', va='bottom', fontweight='bold')\n",
    "\n",
    "plt.grid(axis='y', alpha=0.3)\n",
    "plt.tight_layout()\n",
    "plt.show()\n",
    "\n",
    "print("🔍 ANÁLISE DA IMPORTÂNCIA:")\n",
    "for i, idx in enumerate(indices):\n",
    "    feature = feature_names[idx]\n",
    "    importance = importances[idx]\n",
    "    print(f"{i+1}. {feature}: {importance:.3f} ({importance*100:.1f}%)")\n",
    "\n",
    "print(f"\n💡 Feature mais importante: {feature_names[indices[0]]} ({importances[indices[0]]*100:.1f}%)")"
   ]
  },
  {
   "cell_type": "markdown",
   "metadata": {},
   "source": [
    "## 8. 🔮 Exemplos de Predições"
   ]
  },
  {
   "cell_type": "code",
   "execution_count": null,
   "metadata": {},
   "outputs": [],
   "source": [
    "# Exemplos de predições em tempo real\n",
    "print("🔮 EXEMPLOS DE PREDIÇÕES EM TEMPO REAL")\n",
    "print("=" * 60)\n",
    "\n",
    "# Selecionando 5 amostras aleatórias\n",
    "sample_indices = np.random.choice(len(X_test), 5, replace=False)\n",
    "\n",
    "for i, idx in enumerate(sample_indices):\n",
    "    # Dados reais\n",
    "    real_features = X_test.iloc[idx]\n",
    "    real_status = label_encoder.classes_[y_test[idx]]\n",
    "    \n",
    "    # Predição\n",
    "    pred_features = X_test_scaled[idx].reshape(1, -1)\n",
    "    pred_status_encoded = model.predict(pred_features)[0]\n",
    "    pred_status = label_encoder.classes_[pred_status_encoded]\n",
    "    \n",
    "    # Probabilidades\n",
    "    probabilities = model.predict_proba(pred_features)[0]\n",
    "    confidence = max(probabilities)\n",
    "    \n",
    "    print(f"\n🔧 Equipamento {i+1}:")\n",
    "    print(f"📊 Leituras dos Sensores:")\n",
    "    print(f"   • Temperatura: {real_features['temperature']:.1f}°C")\n",
    "    print(f"   • Umidade: {real_features['humidity']:.1f}%")\n",
    "    print(f"   • Pressão: {real_features['pressure']:.3f} bar")\n",
    "    print(f"   • Vibração: {real_features['vibration']:.2f} Hz")\n",
    "    print(f"   • Corrente: {real_features['current']:.1f} A")\n",
    "    \n",
    "    print(f"\n🎯 Resultados:")\n",
    "    print(f"   • Status Real: {real_status}")\n",
    "    print(f"   • Status Predito: {pred_status}")\n",
    "    print(f"   • Confiança: {confidence:.1%}")\n",
    "    \n",
    "    # Probabilidades por classe\n",
    "    print(f"   • Probabilidades:")\n",
    "    for j, class_name in enumerate(label_encoder.classes_):\n",
    "        print(f"     - {class_name}: {probabilities[j]:.1%}")\n",
    "    \n",
    "    if real_status == pred_status:\n",
    "        print("   ✅ Predição CORRETA")\n",
    "    else:\n",
    "        print("   ❌ Predição INCORRETA")\n",
    "    \n",
    "    print("-" * 50)"
   ]
  },
  {
   "cell_type": "markdown",
   "metadata": {},
   "source": [
    "## 9. 📈 Resumo Final e Conclusões"
   ]
  },
  {
   "cell_type": "code",
   "execution_count": null,
   "metadata": {},
   "outputs": [],
   "source": [
    "print("🏆 RESUMO FINAL DO PROJETO")\n",
    "print("=" * 60)\n",
    "print(f"\n📊 DADOS:")\n",
    "print(f"   • Total de registros: {len(df):,}")\n",
    "print(f"   • Features utilizadas: {len(feature_names)}")\n",
    "print(f"   • Classes target: {len(target_names)}")\n",
    "print(f"   • Período analisado: {df['timestamp'].min()} até {df['timestamp'].max()}")\n",
    "\n",
    "print(f"\n🤖 MODELO:")\n",
    "print(f"   • Algoritmo: Random Forest Classifier")\n",
    "print(f"   • Número de árvores: {model.n_estimators}")\n",
    "print(f"   • Profundidade máxima: {model.max_depth}")\n",
    "print(f"   • Features mais importante: {feature_names[indices[0]]}")\n",
    "\n",
    "print(f"\n🎯 PERFORMANCE:")\n",
    "print(f"   • Acurácia geral: {accuracy:.1%}")\n",
    "print(f"   • Precisão média: {report['macro avg']['precision']:.1%}")\n",
    "print(f"   • Recall médio: {report['macro avg']['recall']:.1%}")\n",
    "print(f"   • F1-Score médio: {report['macro avg']['f1-score']:.3f}")\n",
    "\n",
    "print(f"\n🎯 PROBLEMA RESOLVIDO:")\n",
    "print(f"   • Classificação automática de status de equipamentos")\n",
    "print(f"   • Detecção precoce de problemas (ATENÇÃO e CRÍTICO)")\n",
    "print(f"   • Redução de paradas não programadas")\n",
    "print(f"   • Otimização da manutenção preventiva")\n",
    "\n",
    "print(f"\n🚀 PRÓXIMOS PASSOS:")\n",
    "print(f"   • Deploy do modelo em produção")\n",
    "print(f"   • Integração com sistema de alertas")\n",
    "print(f"   • Monitoramento contínuo da performance")\n",
    "print(f"   • Retreinamento periódico com novos dados")\n",
    "\n",
    "print(f"\n✅ PROJETO CONCLUÍDO COM SUCESSO!")\n",
    "print(f"🏆 Modelo pronto para implementação industrial!")"
   ]
  }
 ],
 "metadata": {
  "kernelspec": {
   "display_name": "Python 3",
   "language": "python",
   "name": "python3"
  },
  "language_info": {
   "codemirror_mode": {
    "name": "ipython",
    "version": 3
   },
   "file_extension": ".py",
   "mimetype": "text/x-python",
   "name": "python",
   "nbconvert_exporter": "python",
   "pygments_lexer": "ipython3",
   "version": "3.9.0"
  }
 },
 "nbformat": 4,
 "nbformat_minor": 4
}
